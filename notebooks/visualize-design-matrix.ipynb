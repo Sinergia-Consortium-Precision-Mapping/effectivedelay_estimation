{
 "cells": [
  {
   "cell_type": "code",
   "execution_count": null,
   "metadata": {},
   "outputs": [],
   "source": [
    "import numpy as np\n",
    "\n",
    "import networkx as nx\n",
    "import matplotlib.pyplot as plt\n",
    "\n",
    "import os.path as op\n",
    "import sys\n",
    "sys.path.append(\"../\")\n",
    "\n",
    "from src import regmod\n",
    "from src import utils"
   ]
  },
  {
   "cell_type": "markdown",
   "metadata": {},
   "source": [
    "## Synthetic model"
   ]
  },
  {
   "cell_type": "code",
   "execution_count": null,
   "metadata": {},
   "outputs": [],
   "source": [
    "path_to_data = \"../resources\"\n",
    "\n",
    "fig, axes = plt.subplots(nrows=1, ncols=2, figsize=(10, 5))\n",
    "\n",
    "filename = \"adjacency_synthetic.pkl\"\n",
    "\n",
    "adj = utils.load(op.join(path_to_data, filename))\n",
    "adj -= np.diag(np.diag(adj))\n",
    "\n",
    "axes[0].imshow(adj, cmap='gray')\n",
    "axes[0].set_title('Structural connectivity')\n",
    "toy_graph = nx.Graph(adj)\n",
    "nx.draw(toy_graph, ax=axes[1], with_labels=True)"
   ]
  },
  {
   "cell_type": "code",
   "execution_count": null,
   "metadata": {},
   "outputs": [],
   "source": [
    "import importlib\n",
    "importlib.reload(regmod)\n",
    "\n",
    "max_path_depth = 3\n",
    "alpha = 0.2\n",
    "\n",
    "design_per_hops = regmod.get_path_matrices(adj, max_path_depth)\n",
    "a_design_path = regmod.combine_paths_matrices(design_per_hops, alpha=alpha)\n",
    "\n",
    "# Old degree designs\n",
    "#a_design_degree_row = regmod.build_design_degree_fast(adj, target_deg=False)\n",
    "#a_design_degree_col = regmod.build_design_degree_fast(adj, target_deg=True)\n",
    "\n",
    "all_designs = [a_design_path] #, a_design_degree_row, a_design_degree_col]\n",
    "all_titles = [\"Paths\"] #, \"Degree Row\", \"Degree Col\"]\n",
    "\n",
    "fig, axes = plt.subplots(nrows=1, ncols=len(all_designs), figsize=(15, 5))\n",
    "fig.suptitle(\"Design matrices\")\n",
    "\n",
    "for mat, axes, title in zip(all_designs, np.atleast_1d(axes), all_titles):\n",
    "    axes.set_title(title + f\", rank={np.linalg.matrix_rank(mat)}\")\n",
    "    axes.imshow(mat, cmap='gray')\n",
    "    utils.add_cbar(fig, axes)"
   ]
  },
  {
   "cell_type": "markdown",
   "metadata": {},
   "source": [
    "Zooming into the path desing matrix:"
   ]
  },
  {
   "cell_type": "code",
   "execution_count": null,
   "metadata": {},
   "outputs": [],
   "source": [
    "fig, axes = plt.subplots(figsize=(10, 10))\n",
    "\n",
    "axes.set_title(\"Design matrix (Paths)\")\n",
    "axes.imshow(a_design_path, cmap='gray', vmin=0, interpolation=\"none\")"
   ]
  },
  {
   "cell_type": "markdown",
   "metadata": {},
   "source": [
    "## Structural connectome (WM Bundles)"
   ]
  },
  {
   "cell_type": "code",
   "execution_count": null,
   "metadata": {},
   "outputs": [],
   "source": [
    "fig, axes = plt.subplots(nrows=1, ncols=2, figsize=(10, 5))\n",
    "\n",
    "filename = \"adjacency_atlas.pkl\"\n",
    "\n",
    "adj_sc = utils.load(op.join(path_to_data, filename))\n",
    "adj_sc -= np.diag(np.diag(adj_sc))\n",
    "\n",
    "axes[0].imshow(adj_sc, cmap='gray')\n",
    "axes[0].set_title('Structural connectivity')\n",
    "toy_graph_sc = nx.Graph(adj_sc)\n",
    "nx.draw(toy_graph_sc, ax=axes[1], with_labels=True)"
   ]
  },
  {
   "cell_type": "code",
   "execution_count": null,
   "metadata": {},
   "outputs": [],
   "source": [
    "import importlib\n",
    "importlib.reload(regmod)\n",
    "\n",
    "max_path_depth = 2\n",
    "alpha = 0.2\n",
    "\n",
    "design_per_hops = regmod.get_path_matrices(adj_sc, max_path_depth)\n",
    "\n",
    "a_design_sc_path = regmod.combine_paths_matrices(design_per_hops, alpha=alpha)\n",
    "\n",
    "fig, axes = plt.subplots(figsize=(10, 10))\n",
    "\n",
    "axes.set_title(\"Design matix (Paths)\")\n",
    "axes.imshow(a_design_sc_path, cmap='gray', vmin=0, interpolation=\"none\")"
   ]
  },
  {
   "cell_type": "code",
   "execution_count": null,
   "metadata": {},
   "outputs": [],
   "source": []
  }
 ],
 "metadata": {
  "kernelspec": {
   "display_name": "dgsp",
   "language": "python",
   "name": "python3"
  },
  "language_info": {
   "codemirror_mode": {
    "name": "ipython",
    "version": 3
   },
   "file_extension": ".py",
   "mimetype": "text/x-python",
   "name": "python",
   "nbconvert_exporter": "python",
   "pygments_lexer": "ipython3",
   "version": "3.11.7"
  }
 },
 "nbformat": 4,
 "nbformat_minor": 2
}
