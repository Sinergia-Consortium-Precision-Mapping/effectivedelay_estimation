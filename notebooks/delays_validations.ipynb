{
 "cells": [
  {
   "cell_type": "code",
   "execution_count": 1,
   "metadata": {},
   "outputs": [],
   "source": [
    "import numpy as np\n",
    "\n",
    "import networkx as nx\n",
    "import matplotlib.pyplot as plt\n",
    "\n",
    "import os.path as op\n",
    "import sys\n",
    "sys.path.append(\"../\")\n",
    "\n",
    "from src import regmod\n",
    "from src import utils\n",
    "from src import solver\n",
    "\n",
    "import h5py\n",
    "\n",
    "def get_aggprop(h5dict: h5py._hl.files.File, property: str):\n",
    "    \"\"\"\n",
    "    Get the bundles statistics on whole brain level from the HDF5 file.\n",
    "\n",
    "    Parameters\n",
    "    ----------\n",
    "    h5dict : h5py._hl.files.File \n",
    "        The opened HDF5 file.\n",
    "    property : str\n",
    "        The property to extract from the HDF5 file.\n",
    "\n",
    "    Returns\n",
    "    -------\n",
    "    ret : np.arrasy\n",
    "        The array containing the requested property values.\n",
    "    \"\"\"\n",
    "\n",
    "    try:\n",
    "        ret = np.array(h5dict.get(\"matrices\").get(property))\n",
    "    except:\n",
    "        print(\"Not valid property OR h5 not opened\")\n",
    "    return ret"
   ]
  },
  {
   "cell_type": "markdown",
   "metadata": {},
   "source": [
    "#### EXAMPLE OF HOW TO GET FIBER LENGTH (for the probability we use `consistency` so need to change that to `length`)"
   ]
  },
  {
   "cell_type": "code",
   "execution_count": 7,
   "metadata": {},
   "outputs": [],
   "source": [
    "# data_path = \"/Users/acionca/data/\"\n",
    "data_path = \"../../atlas_data/\"\n",
    "\n",
    "region_file = op.join(data_path, f'F-TRACT-090624/Lausanne2008-33.txt')\n",
    "scale = 1\n",
    "connFilename = f'../../atlas_data/fiber_atlas/probconnatlas/wm.connatlas.scale{scale}.h5'\n",
    "# connFilename = op.join(data_path, f'atlas_data/fiber_atlas/probconnatlas/wm.connatlas.scale{scale}.h5')\n",
    "hf = h5py.File(connFilename, 'r')\n",
    "\n",
    "centers = np.array(hf.get('header').get('gmcoords'))\n",
    "\n",
    "gmregions_names = hf.get('header').get('gmregions')[()]\n",
    "nb_regions = gmregions_names.shape[0]\n",
    "length_view = get_aggprop(hf, 'length')\n",
    "\n",
    "\n",
    "array1 = gmregions_names\n",
    "array1 = [a.decode('utf-8').lower() for a in array1]\n",
    "\n",
    "with open(region_file) as f:\n",
    "    array2 = f.readlines()\n",
    "\n",
    "array2 = [regionname.replace('.','-').lower().strip() for k, regionname in enumerate(array2)]\n",
    "for sidx, region in enumerate(array2):\n",
    "    if 'right' in region:\n",
    "        array2[sidx] = region.replace('right','rh')\n",
    "    if 'left' in region:\n",
    "        array2[sidx] = region.replace('left','lh')"
   ]
  },
  {
   "cell_type": "code",
   "execution_count": 11,
   "metadata": {},
   "outputs": [],
   "source": [
    "match_indexes = np.zeros(len(array2)) - 1\n",
    "for k in range(len(array2)):\n",
    "    for sidx, searchname in enumerate(array1):\n",
    "        if array2[k] in searchname:\n",
    "            match_indexes[k] = sidx\n",
    "        if 'lh-accumbens-area' in array2[k]:\n",
    "            if 'lh-accumbens' in searchname:\n",
    "                match_indexes[k] = sidx\n",
    "        if 'rh-accumbens-area' in array2[k]:\n",
    "            if 'rh-accumbens' in searchname:\n",
    "                match_indexes[k] = sidx\n",
    "                \n",
    "rightth = np.where(['thal' in tmp for tmp in array1])[0][:7]\n",
    "leftth = np.where(['thal' in tmp for tmp in array1])[0][7:]"
   ]
  },
  {
   "cell_type": "code",
   "execution_count": null,
   "metadata": {},
   "outputs": [],
   "source": [
    "struct_length = length_view\n",
    "\n",
    "max_delay = 400\n",
    "proba_file = op.join(data_path, f'F-TRACT-090624/{max_delay}/probability.txt.gz')\n",
    "\n",
    "proba_array = np.genfromtxt(proba_file, delimiter=' ')\n",
    "proba_array = np.array(proba_array).astype(float)\n",
    "\n",
    "fibers_array = np.zeros_like(proba_array)\n",
    "for ridx in range(len(fibers_array)):\n",
    "    for cidx in range(len(fibers_array)):\n",
    "        \n",
    "        if (ridx == 83) or (cidx == 83):\n",
    "            fibers_array[ridx, cidx] = np.nan\n",
    "        else:\n",
    "            if ridx == 34 and cidx == 34: fibers_array[ridx, cidx] = struct_length[rightth][:, rightth].mean()\n",
    "            elif ridx == 34 and cidx == 75: fibers_array[ridx, cidx] = struct_length[rightth][:, rightth].mean()\n",
    "            elif ridx == 75 and cidx == 34: fibers_array[ridx, cidx] = struct_length[rightth][:, rightth].mean()\n",
    "            elif ridx == 75 and cidx == 75: fibers_array[ridx, cidx] = struct_length[rightth][:, rightth].mean()\n",
    "            else:\n",
    "                fibers_array[ridx, cidx] = struct_length[int(match_indexes[ridx]), int(match_indexes[cidx])]\n",
    "\n",
    "# NOTE: fibers_array is the re-aligned by regions to match f-tract, matrix of fiber lengths"
   ]
  },
  {
   "cell_type": "markdown",
   "metadata": {},
   "source": [
    "# Computing connectome (degree) asymmetry"
   ]
  },
  {
   "cell_type": "code",
   "execution_count": null,
   "metadata": {},
   "outputs": [],
   "source": []
  },
  {
   "cell_type": "markdown",
   "metadata": {},
   "source": [
    "# Investigating the relationship with bundle average lengths"
   ]
  },
  {
   "cell_type": "code",
   "execution_count": null,
   "metadata": {},
   "outputs": [],
   "source": []
  },
  {
   "cell_type": "markdown",
   "metadata": {},
   "source": [
    "# Comparison between d400 and d50"
   ]
  },
  {
   "cell_type": "markdown",
   "metadata": {},
   "source": [
    "# Cross-validation by removing bundles"
   ]
  },
  {
   "cell_type": "markdown",
   "metadata": {},
   "source": [
    "# Computing the connection speeds"
   ]
  },
  {
   "cell_type": "code",
   "execution_count": null,
   "metadata": {},
   "outputs": [],
   "source": []
  }
 ],
 "metadata": {
  "kernelspec": {
   "display_name": "effective_delay",
   "language": "python",
   "name": "python3"
  },
  "language_info": {
   "codemirror_mode": {
    "name": "ipython",
    "version": 3
   },
   "file_extension": ".py",
   "mimetype": "text/x-python",
   "name": "python",
   "nbconvert_exporter": "python",
   "pygments_lexer": "ipython3",
   "version": "3.11.9"
  }
 },
 "nbformat": 4,
 "nbformat_minor": 2
}
