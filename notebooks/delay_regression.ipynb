{
 "cells": [
  {
   "cell_type": "code",
   "execution_count": null,
   "metadata": {},
   "outputs": [],
   "source": [
    "import numpy as np\n",
    "\n",
    "import networkx as nx\n",
    "import matplotlib.pyplot as plt\n",
    "\n",
    "import os.path as op\n",
    "import sys\n",
    "sys.path.append(\"../\")\n",
    "\n",
    "from src import regmod\n",
    "from src import utils\n",
    "from src import solver"
   ]
  },
  {
   "cell_type": "markdown",
   "metadata": {},
   "source": [
    "## Synthetic Example"
   ]
  },
  {
   "cell_type": "code",
   "execution_count": null,
   "metadata": {},
   "outputs": [],
   "source": [
    "import importlib\n",
    "importlib.reload(solver)"
   ]
  },
  {
   "cell_type": "code",
   "execution_count": null,
   "metadata": {},
   "outputs": [],
   "source": [
    "path_to_data = \"../resources\"\n",
    "\n",
    "fig, axes = plt.subplots(nrows=1, ncols=2, figsize=(10, 5))\n",
    "\n",
    "filename = \"adjacency_synthetic.pkl\"\n",
    "\n",
    "adj = utils.load(op.join(path_to_data, filename))\n",
    "adj -= np.diag(np.diag(adj))\n",
    "\n",
    "axes[0].imshow(adj, cmap='gray')\n",
    "axes[0].set_title('Structural connectivity')\n",
    "toy_graph = nx.Graph(adj)\n",
    "nx.draw(toy_graph, ax=axes[1], with_labels=True)"
   ]
  },
  {
   "cell_type": "markdown",
   "metadata": {},
   "source": [
    "### Example of a forward pass"
   ]
  },
  {
   "cell_type": "code",
   "execution_count": null,
   "metadata": {},
   "outputs": [],
   "source": [
    "max_path_depth = 4\n",
    "\n",
    "multi_hops_design = regmod.get_path_matrices(adj, max_path_depth)\n",
    "\n",
    "a = 0\n",
    "# Computes the alpha vector as alpha_n = a^n\n",
    "alpha = [a**(i+1) for i in range(max_path_depth)]\n",
    "#alpha = a\n",
    "\n",
    "design_shortest = regmod.combine_paths_matrices(multi_hops_design, alpha=alpha)\n",
    "design_shortest = regmod.build_design_shortest(adj, n_subopt=1, alpha=a)\n",
    "design_model = design_shortest\n",
    "\n",
    "y_pred_mat = regmod.predict_conduction_delays(design_model, adj, invert_weights=False)\n",
    "\n",
    "fig, axes = plt.subplots(nrows=1, ncols=4, figsize=(20, 5))\n",
    "fig.suptitle(rf\"Path design matrix, $\\alpha=$\"+\" \".join([f\"{a:1.4f}\" for a in list(alpha)]))\n",
    "axes[0].imshow(y_pred_mat, cmap='hot')\n",
    "axes[0].set_title(\"Conductance delays $\\hat{y}$\")\n",
    "utils.add_cbar(fig, axes[0])\n",
    "utils.annotate_heatmap(fig, axes[0], y_pred_mat, adapt_color=0.6)\n",
    "\n",
    "axes[1].imshow(design_model, cmap='gray')#, vmax=y_pred_mat.max())\n",
    "axes[1].set_title(\"Design matrix\")\n",
    "utils.add_cbar(fig, axes[1])\n",
    "\n",
    "axes[2].imshow(adj, cmap='gray')#, vmax=y_pred_mat.max())\n",
    "axes[2].set_title(\"Effective delays $x=\\mathbf{1}$ (if bundle)\")\n",
    "utils.add_cbar(fig, axes[2])\n",
    "\n",
    "nx.draw(toy_graph, ax=axes[3], with_labels=True)"
   ]
  },
  {
   "cell_type": "markdown",
   "metadata": {},
   "source": [
    "### Backward pass: Jointly optimizing effective delays and alphas"
   ]
  },
  {
   "cell_type": "code",
   "execution_count": null,
   "metadata": {},
   "outputs": [],
   "source": [
    "max_path_depth = 4\n",
    "multi_hops_design = regmod.get_path_matrices(adj, max_path_depth)"
   ]
  },
  {
   "cell_type": "code",
   "execution_count": null,
   "metadata": {},
   "outputs": [],
   "source": [
    "x_ground = utils.remove_diagonal_entries(adj).flatten()\n",
    "\n",
    "a = 0\n",
    "# Computes the alpha vector as alpha_n = a^n\n",
    "alpha = solver.torch.tensor([a**(i+1) for i in range(max_path_depth)])\n",
    "\n",
    "design_model = solver.combine_paths_matrices_torch(solver.torch.tensor(multi_hops_design), alpha=alpha)\n",
    "y_pred = solver.forward(design_model, solver.torch.tensor(x_ground))"
   ]
  },
  {
   "cell_type": "code",
   "execution_count": null,
   "metadata": {},
   "outputs": [],
   "source": [
    "from copy import deepcopy\n",
    "np.random.seed(99)\n",
    "y_ground = solver.torch.tensor(deepcopy(y_pred))\n",
    "x_init = solver.torch.tensor(np.random.rand(len(x_ground))).requires_grad_(True)\n",
    "# alphas_init = solver.torch.tensor(np.random.rand(len(alpha))).requires_grad_(True)"
   ]
  },
  {
   "cell_type": "code",
   "execution_count": null,
   "metadata": {},
   "outputs": [],
   "source": [
    "importlib.reload(solver)\n",
    "x = deepcopy(x_init)\n",
    "x_opt, loss = solver.naive_gradient_descent(x, y_ground, 0, solver.torch.tensor(multi_hops_design),\n",
    "                                            n_iter=1000, verbose=False, early_stop=1e-10)"
   ]
  },
  {
   "cell_type": "code",
   "execution_count": null,
   "metadata": {},
   "outputs": [],
   "source": [
    "x_ground_mat = utils.add_diagonal_entries(x_ground.reshape(adj.shape[0], adj.shape[1]-1))\n",
    "x_pred_mat = utils.add_diagonal_entries(x_opt.reshape(adj.shape[0], adj.shape[1]-1))\n",
    "\n",
    "fig, axes = plt.subplots(nrows=1, ncols=2, figsize=(10, 5))\n",
    "fig.suptitle(rf\"Path design matrix, $\\alpha=$\"+\" \".join([f\"{a:1.4f}\" for a in list(alpha)]))\n",
    "axes[0].imshow(x_ground_mat, cmap='gray')\n",
    "axes[0].set_title(\"Effective delays $x=\\mathbf{1}$ (if bundle)\")\n",
    "utils.add_cbar(fig, axes[0])\n",
    "utils.annotate_heatmap(fig, axes[0], x_ground_mat, adapt_color=0.6)\n",
    "\n",
    "axes[1].imshow(x_pred_mat, cmap='gray')#, vmax=y_pred_mat.max())\n",
    "axes[1].set_title(f\"Estimated Effective delays w/ loss={np.round(loss,4)}\")\n",
    "utils.add_cbar(fig, axes[1])\n",
    "# NOTE: we need to rechek this, it seems that the colors are flipped? (transposed?)\n",
    "utils.annotate_heatmap(fig, axes[1], x_pred_mat.T, adapt_color=0.6)"
   ]
  },
  {
   "cell_type": "markdown",
   "metadata": {},
   "source": [
    "### Backward: Pseudo-inverse solution"
   ]
  },
  {
   "cell_type": "code",
   "execution_count": null,
   "metadata": {},
   "outputs": [],
   "source": [
    "max_path_depth = 4\n",
    "multi_hops_design = regmod.get_path_matrices(adj, max_path_depth)"
   ]
  },
  {
   "cell_type": "code",
   "execution_count": null,
   "metadata": {},
   "outputs": [],
   "source": [
    "x_ground = utils.remove_diagonal_entries(adj).flatten()\n",
    "\n",
    "a = 0\n",
    "# Computes the alpha vector as alpha_n = a^n\n",
    "alpha = solver.torch.tensor([a**(i+1) for i in range(max_path_depth)])\n",
    "\n",
    "design_model = solver.combine_paths_matrices_torch(solver.torch.tensor(multi_hops_design), alpha=alpha)\n",
    "design_model = solver.torch.tensor(design_shortest)\n",
    "y_pred = solver.forward(design_model, solver.torch.tensor(x_ground)).numpy()"
   ]
  },
  {
   "cell_type": "code",
   "execution_count": null,
   "metadata": {},
   "outputs": [],
   "source": [
    "x_opt = solver.pseudo_inverse(y_pred, a_design=design_model.numpy())\n",
    "y_est = design_model.numpy() @ x_opt\n",
    "loss = np.linalg.norm(y_est - y_pred)"
   ]
  },
  {
   "cell_type": "code",
   "execution_count": null,
   "metadata": {},
   "outputs": [],
   "source": [
    "x_ground_mat = utils.add_diagonal_entries(x_ground.reshape(adj.shape[0], adj.shape[1]-1))\n",
    "x_pred_mat = utils.add_diagonal_entries(x_opt.reshape(adj.shape[0], adj.shape[1]-1))\n",
    "\n",
    "fig, axes = plt.subplots(nrows=1, ncols=2, figsize=(10, 5))\n",
    "fig.suptitle(rf\"Path design matrix, $\\alpha=$\"+\" \".join([f\"{a:1.4f}\" for a in list(alpha)]))\n",
    "axes[0].imshow(x_ground_mat, cmap='gray')\n",
    "axes[0].set_title(\"Effective delays $x=\\mathbf{1}$ (if bundle)\")\n",
    "utils.add_cbar(fig, axes[0])\n",
    "utils.annotate_heatmap(fig, axes[0], x_ground_mat, adapt_color=0.6)\n",
    "\n",
    "axes[1].imshow(x_pred_mat, cmap='gray')#, vmax=y_pred_mat.max())\n",
    "axes[1].set_title(f\"Estimated Effective delays w/ loss={np.round(loss,4)}\")\n",
    "utils.add_cbar(fig, axes[1])\n",
    "utils.annotate_heatmap(fig, axes[1], np.round(x_pred_mat,4), adapt_color=0.6)"
   ]
  },
  {
   "cell_type": "markdown",
   "metadata": {},
   "source": [
    "## F-tract Example\n",
    "\n",
    "Contents:\n",
    "- Sanity check \n",
    "    - generating measured delay by considering only 1s delay for all bundles\n",
    "    - verifying that the solver regresses back the only 1 delays\n",
    "\n",
    "- Regressing conductance delays"
   ]
  },
  {
   "cell_type": "code",
   "execution_count": null,
   "metadata": {},
   "outputs": [],
   "source": [
    "import importlib\n",
    "importlib.reload(solver)"
   ]
  },
  {
   "cell_type": "code",
   "execution_count": null,
   "metadata": {},
   "outputs": [],
   "source": [
    "path_to_data = \"../resources\"\n",
    "\n",
    "fig, axes = plt.subplots(nrows=1, ncols=2, figsize=(10, 5))\n",
    "\n",
    "filename = \"adjacency_atlas.pkl\"\n",
    "\n",
    "adj = utils.load(op.join(path_to_data, filename))\n",
    "# TODO + NOTE: temporary truncation to remove (by michael)\n",
    "adj = adj[:84, :84] \n",
    "adj -= np.diag(np.diag(adj))\n",
    "\n",
    "axes[0].imshow(adj, cmap='gray')\n",
    "axes[0].set_title('Structural connectivity')\n",
    "toy_graph = nx.Graph(adj)\n",
    "nx.draw(toy_graph, ax=axes[1], with_labels=True)"
   ]
  },
  {
   "cell_type": "code",
   "execution_count": null,
   "metadata": {},
   "outputs": [],
   "source": [
    "importlib.reload(regmod)\n",
    "max_path_depth = 3\n",
    "\n",
    "#multi_hops_design = regmod.get_path_matrices(adj, max_path_depth)\n",
    "\n",
    "#a = 0\n",
    "# Computes the alpha vector as alpha_n = a^n\n",
    "#alpha = [a**(i+1) for i in range(max_path_depth)]\n",
    "#alpha = a\n",
    "\n",
    "#design_shortest = regmod.combine_paths_matrices(multi_hops_design, alpha=alpha)\n",
    "design_shortest = regmod.build_design_shortest(adj, n_subopt=1, alpha=0.5)\n",
    "\n",
    "y_pred_mat = regmod.predict_conduction_delays(design_shortest, adj, invert_weights=False)\n",
    "\n",
    "fig, axes = plt.subplots(nrows=1, ncols=4, figsize=(20, 5))\n",
    "fig.suptitle(rf\"Path design matrix, $\\alpha=$\"+\" \".join([f\"{a:1.4f}\" for a in list(alpha)]))\n",
    "axes[0].imshow(y_pred_mat, cmap='hot', interpolation=None)\n",
    "axes[0].set_title(\"Conductance delays $\\hat{y}$\")\n",
    "utils.add_cbar(fig, axes[0])\n",
    "#utils.annotate_heatmap(fig, axes[0], y_pred_mat, adapt_color=0.6)\n",
    "\n",
    "axes[1].imshow(design_shortest, cmap='gray')#, vmax=y_pred_mat.max())\n",
    "axes[1].set_title(\"Design matrix\")\n",
    "utils.add_cbar(fig, axes[1])\n",
    "\n",
    "axes[2].imshow(adj, cmap='gray')#, vmax=y_pred_mat.max())\n",
    "axes[2].set_title(\"Effective delays $x=\\mathbf{1}$ (if bundle)\")\n",
    "utils.add_cbar(fig, axes[2])\n",
    "\n",
    "nx.draw(toy_graph, ax=axes[3], with_labels=True)"
   ]
  },
  {
   "cell_type": "markdown",
   "metadata": {},
   "source": [
    "### Sanity check"
   ]
  },
  {
   "cell_type": "code",
   "execution_count": null,
   "metadata": {},
   "outputs": [],
   "source": [
    "n_reduced = -1\n",
    "reduced_adj = adj[:n_reduced][:, :n_reduced]\n",
    "\n",
    "x_ground = utils.remove_diagonal_entries(reduced_adj).flatten()\n",
    "\n",
    "a = 0.5\n",
    "# Computes the alpha vector as alpha_n = a^n\n",
    "alpha = solver.torch.tensor([a**(i+1) for i in range(max_path_depth)])\n",
    "\n",
    "#design_model = solver.combine_paths_matrices_torch(solver.torch.tensor(multi_hops_design), alpha=alpha)\n",
    "\n",
    "design_shortest = regmod.build_design_shortest(reduced_adj, n_subopt=1, alpha=a)\n",
    "design_model = solver.torch.tensor(design_shortest)\n",
    "x_ground = utils.remove_diagonal_entries(reduced_adj).flatten()\n",
    "y_pred = solver.forward(design_model, solver.torch.tensor(x_ground)).numpy()"
   ]
  },
  {
   "cell_type": "code",
   "execution_count": null,
   "metadata": {},
   "outputs": [],
   "source": [
    "x_opt = solver.pseudo_inverse(y_pred, a_design=design_model.numpy(), rcond=1e-10)\n",
    "y_est = design_model.numpy() @ x_opt\n",
    "loss = np.linalg.norm(y_est - y_pred)"
   ]
  },
  {
   "cell_type": "code",
   "execution_count": null,
   "metadata": {},
   "outputs": [],
   "source": [
    "x_ground_mat = utils.add_diagonal_entries(x_ground.reshape(reduced_adj.shape[0], reduced_adj.shape[1]-1))\n",
    "x_pred_mat = utils.add_diagonal_entries(x_opt.reshape(reduced_adj.shape[0], reduced_adj.shape[1]-1))\n",
    "\n",
    "fig, axes = plt.subplots(nrows=1, ncols=2, figsize=(10, 5))\n",
    "fig.suptitle(rf\"Path design matrix, $\\alpha=$\"+\" \".join([f\"{a:1.4f}\" for a in list(alpha)]))\n",
    "axes[0].imshow(x_ground_mat, cmap='gray')\n",
    "axes[0].set_title(\"Effective delays $x=\\mathbf{1}$ (if bundle)\")\n",
    "utils.add_cbar(fig, axes[0])\n",
    "# utils.annotate_heatmap(fig, axes[0], x_ground_mat, adapt_color=0.6)\n",
    "\n",
    "axes[1].imshow(x_pred_mat, cmap='gray')#, vmax=y_pred_mat.max())\n",
    "axes[1].set_title(f\"Estimated Effective delays w/ loss={np.round(loss,4)}\")\n",
    "utils.add_cbar(fig, axes[1])\n",
    "# utils.annotate_heatmap(fig, axes[1], np.round(x_pred_mat,4), adapt_color=0.6)"
   ]
  },
  {
   "cell_type": "code",
   "execution_count": null,
   "metadata": {},
   "outputs": [],
   "source": [
    "fig, ax = plt.subplots()\n",
    "#ax.imshow(np.abs(x_pred_mat - x_ground_mat) > 0.1)\n",
    "ax.imshow(x_pred_mat - x_ground_mat, vmin=-1e-5, vmax=1e-5)\n",
    "ax.set_title('Difference (>10%) map between predicted and ground truth matrices')"
   ]
  },
  {
   "cell_type": "markdown",
   "metadata": {},
   "source": [
    "### From conductance delay"
   ]
  },
  {
   "cell_type": "code",
   "execution_count": null,
   "metadata": {},
   "outputs": [],
   "source": [
    "n_reduced = 20\n",
    "\n",
    "y_ground_mat = utils.load(\"../resources/conductance-delay_Lausanne2008_33.pkl\")\n",
    "y_ground_mat = np.nan_to_num(y_ground_mat['median'])[:n_reduced][:, :n_reduced]\n",
    "\n",
    "y_ground = utils.remove_diagonal_entries(y_ground_mat).flatten()"
   ]
  },
  {
   "cell_type": "code",
   "execution_count": null,
   "metadata": {},
   "outputs": [],
   "source": [
    "adj_reduced = adj[:n_reduced][:, :n_reduced]\n",
    "\n",
    "a = 0\n",
    "# Computes the alpha vector as alpha_n = a^n\n",
    "#alpha = solver.torch.tensor([a**(i+1) for i in range(max_path_depth)])\n",
    "\n",
    "#design_model = solver.combine_paths_matrices_torch(solver.torch.tensor(multi_hops_design), alpha=alpha).numpy()\n",
    "design_shortest = regmod.build_design_shortest(adj_reduced, n_subopt=0, alpha=a)\n",
    "design_model = solver.torch.tensor(design_shortest)"
   ]
  },
  {
   "cell_type": "code",
   "execution_count": null,
   "metadata": {},
   "outputs": [],
   "source": [
    "x_opt = solver.pseudo_inverse(y_ground, a_design=design_model, rcond=1e-10)\n",
    "y_est = design_model @ x_opt\n",
    "loss = np.linalg.norm(y_est - y_ground)"
   ]
  },
  {
   "cell_type": "code",
   "execution_count": null,
   "metadata": {},
   "outputs": [],
   "source": [
    "x_pred_mat = utils.add_diagonal_entries(x_opt.reshape(adj_reduced.shape[0], adj_reduced.shape[1]-1))\n",
    "\n",
    "fig, axes = plt.subplots(ncols=3, figsize=(15, 5))\n",
    "fig.suptitle(rf\"Path design matrix, $\\alpha=$\"+\" \".join([f\"{a:1.4f}\" for a in list(alpha)]))\n",
    "\n",
    "axes[0].imshow(y_ground_mat, cmap='gray')\n",
    "axes[0].set_title(f\"Conduction delays $y$\")\n",
    "utils.add_cbar(fig, axes[0])\n",
    "# utils.annotate_heatmap(fig, axes, np.round(x_pred_mat,4), adapt_color=0.6)\n",
    "\n",
    "axes[1].imshow(x_pred_mat, cmap='gray')\n",
    "axes[1].set_title(f\"Estimated Conduction delays $\\hat y$ w/ loss={np.round(loss,4)}\")\n",
    "utils.add_cbar(fig, axes[1])\n",
    "\n",
    "axes[2].imshow(x_pred_mat, cmap='gray', vmin=0)\n",
    "axes[2].set_title(f\"Clipped $\\hat y$\")\n",
    "utils.add_cbar(fig, axes[2])"
   ]
  },
  {
   "cell_type": "code",
   "execution_count": null,
   "metadata": {},
   "outputs": [],
   "source": [
    "diff = y_ground_mat - np.clip(x_pred_mat, a_min=0, a_max=None)\n",
    "maxval = np.abs(diff).max()\n",
    "plt.imshow(diff, vmin=-maxval, vmax=maxval, cmap=\"coolwarm\")\n",
    "plt.colorbar()"
   ]
  },
  {
   "cell_type": "markdown",
   "metadata": {},
   "source": [
    "# Visualize the influence of $\\alpha$"
   ]
  },
  {
   "cell_type": "code",
   "execution_count": null,
   "metadata": {},
   "outputs": [],
   "source": [
    "n_reduced = 50\n",
    "\n",
    "y_ground_mat = utils.load(\"../resources/conductance-delay_Lausanne2008_33.pkl\")\n",
    "y_ground_mat = np.nan_to_num(y_ground_mat['median'])[:n_reduced][:, :n_reduced]\n",
    "\n",
    "y_ground = utils.remove_diagonal_entries(y_ground_mat).flatten()\n",
    "\n",
    "adj_reduced = adj[:n_reduced][:, :n_reduced]\n",
    "\n",
    "n_alphas=10\n",
    "alphas = np.linspace(0, 2, n_alphas)\n",
    "\n",
    "losses = np.zeros_like(alphas)\n",
    "all_sol = np.zeros((len(alphas), adj_reduced.shape[0], adj_reduced.shape[1]))\n",
    "\n",
    "for a_i, a in enumerate(alphas):\n",
    "    design_shortest = solver.torch.tensor(regmod.build_design_shortest(adj_reduced, n_subopt=1, alpha=a))\n",
    "\n",
    "    x_opt = solver.pseudo_inverse(y_ground, a_design=design_shortest, rcond=1e-10)\n",
    "    all_sol[a_i] = utils.add_diagonal_entries(x_opt.reshape(adj_reduced.shape[0], adj_reduced.shape[1]-1))\n",
    "\n",
    "    y_est = design_shortest @ x_opt\n",
    "    losses[a_i] = np.linalg.norm(y_est - y_ground)\n"
   ]
  },
  {
   "cell_type": "code",
   "execution_count": null,
   "metadata": {},
   "outputs": [],
   "source": [
    "fig, axes = plt.subplots(ncols=3, figsize=(18, 5))\n",
    "\n",
    "axes[0].plot(alphas, losses)\n",
    "axes[0].set_title(r\"Loss as a function of $\\alpha$\")\n",
    "\n",
    "axes[1].imshow(y_ground_mat, cmap='gray')\n",
    "axes[1].set_title(r\"Original conductance delays $y$\")\n",
    "utils.add_cbar(fig, axes[1])\n",
    "\n",
    "axes[2].imshow(all_sol[np.argmin(losses)], cmap='gray')\n",
    "axes[2].set_title(rf\"Clipped effective delays $x^*$ for $\\alpha={alphas[np.argmin(losses)]}$\")\n",
    "utils.add_cbar(fig, axes[2])"
   ]
  },
  {
   "cell_type": "code",
   "execution_count": null,
   "metadata": {},
   "outputs": [],
   "source": []
  }
 ],
 "metadata": {
  "kernelspec": {
   "display_name": "effective_delay",
   "language": "python",
   "name": "python3"
  },
  "language_info": {
   "codemirror_mode": {
    "name": "ipython",
    "version": 3
   },
   "file_extension": ".py",
   "mimetype": "text/x-python",
   "name": "python",
   "nbconvert_exporter": "python",
   "pygments_lexer": "ipython3",
   "version": "3.1.0"
  }
 },
 "nbformat": 4,
 "nbformat_minor": 2
}
