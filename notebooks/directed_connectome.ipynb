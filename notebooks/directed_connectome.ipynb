{
 "cells": [
  {
   "cell_type": "code",
   "execution_count": 7,
   "metadata": {},
   "outputs": [],
   "source": [
    "import numpy as np\n",
    "\n",
    "import networkx as nx\n",
    "import matplotlib.pyplot as plt\n",
    "\n",
    "import os.path as op\n",
    "import sys\n",
    "sys.path.append(\"../\")\n",
    "\n",
    "import nibabel as nib\n",
    "\n",
    "import h5py\n",
    "\n",
    "def get_aggprop(h5dict: h5py._hl.files.File, property: str):\n",
    "    \"\"\"\n",
    "    Get the bundles statistics on whole brain level from the HDF5 file.\n",
    "\n",
    "    Parameters\n",
    "    ----------\n",
    "    h5dict : h5py._hl.files.File \n",
    "        The opened HDF5 file.\n",
    "    property : str\n",
    "        The property to extract from the HDF5 file.\n",
    "\n",
    "    Returns\n",
    "    -------\n",
    "    ret : np.arrasy\n",
    "        The array containing the requested property values.\n",
    "    \"\"\"\n",
    "\n",
    "    try:\n",
    "        ret = np.array(h5dict.get(\"matrices\").get(property))\n",
    "    except:\n",
    "        print(\"Not valid property OR h5 not opened\")\n",
    "    return ret"
   ]
  },
  {
   "cell_type": "markdown",
   "metadata": {},
   "source": [
    "## F-tract and Probabilistic atlas comparison\n",
    "\n",
    "Contents:\n",
    "- Sanity check (not passed)\n",
    "    - F-tract pairs of regions measured but with 0 probability consistent with atlas not having a bundle?"
   ]
  },
  {
   "cell_type": "code",
   "execution_count": 40,
   "metadata": {},
   "outputs": [],
   "source": [
    "data_path = '/Users/mikichan/Desktop/mywork/atlas_data/'\n",
    "\n",
    "max_delay = 50\n",
    "\n",
    "proba_file = op.join(data_path, 'f-tract_v2112', f'F-TRACT-090624/{max_delay}/probability.txt.gz')\n",
    "delay_file = op.join(data_path, 'f-tract_v2112', f'F-TRACT-090624/{max_delay}/peak_delay__median.txt')\n",
    "region_file = op.join(data_path, 'f-tract_v2112', 'F-TRACT-090624/Lausanne2008-33.txt')\n",
    "\n",
    "proba_array = np.genfromtxt(proba_file, delimiter=' ')\n",
    "proba_array = np.array(proba_array).astype(float)\n",
    "\n",
    "delay_array = np.genfromtxt(delay_file, delimiter=' ')\n",
    "delay_array = np.array(delay_array).astype(float)\n",
    "\n",
    "N = proba_array.shape[0] - 1"
   ]
  },
  {
   "cell_type": "code",
   "execution_count": 41,
   "metadata": {},
   "outputs": [],
   "source": [
    "# Loading indexes\n",
    "scale = 1\n",
    "connFilename = op.join(data_path, f'fiber_atlas/probconnatlas/wm.connatlas.scale{scale}.h5')\n",
    "\n",
    "hf = h5py.File(connFilename, 'r')\n",
    "\n",
    "centers = np.array(hf.get('header').get('gmcoords'))\n",
    "\n",
    "gmregions_names = hf.get('header').get('gmregions')[()]\n",
    "nb_regions = gmregions_names.shape[0]\n",
    "consistency_view = get_aggprop(hf, 'consistency')\n",
    "\n",
    "atlas_2018_regions = gmregions_names\n",
    "atlas_2018_regions = [a.decode('utf-8').lower() for a in atlas_2018_regions]\n",
    "\n",
    "with open(region_file) as f:\n",
    "    atlas_2008_regions = f.readlines()\n",
    "\n",
    "atlas_2008_regions = [regionname.replace('.','-').lower().strip() for k, regionname in enumerate(atlas_2008_regions)]\n",
    "for sidx, region in enumerate(atlas_2008_regions):\n",
    "    if 'right' in region:\n",
    "        atlas_2008_regions[sidx] = region.replace('right','rh')\n",
    "    if 'left' in region:\n",
    "        atlas_2008_regions[sidx] = region.replace('left','lh')\n",
    "\n",
    "match_indexes = np.zeros(len(atlas_2008_regions)) - 1\n",
    "for k in range(len(atlas_2008_regions)):\n",
    "    for sidx, searchname in enumerate(atlas_2018_regions):\n",
    "        if atlas_2008_regions[k] in searchname:\n",
    "            match_indexes[k] = sidx\n",
    "        if 'lh-accumbens-area' in atlas_2008_regions[k]:\n",
    "            if 'lh-accumbens' in searchname:\n",
    "                match_indexes[k] = sidx\n",
    "        if 'rh-accumbens-area' in atlas_2008_regions[k]:\n",
    "            if 'rh-accumbens' in searchname:\n",
    "                match_indexes[k] = sidx\n",
    "                \n",
    "rightth = np.where(['thal' in tmp for tmp in atlas_2018_regions])[0][:7]\n",
    "leftth = np.where(['thal' in tmp for tmp in atlas_2018_regions])[0][7:]"
   ]
  },
  {
   "cell_type": "code",
   "execution_count": 42,
   "metadata": {},
   "outputs": [],
   "source": [
    "# MANUAL-MATCHING: of regions for fibers array creation\n",
    "struct_conn = consistency_view / consistency_view.max()\n",
    "struct_conn -= np.diag(np.diag(struct_conn))\n",
    "\n",
    "fibers_array = np.zeros_like(proba_array)\n",
    "for ridx in range(len(fibers_array)):\n",
    "    for cidx in range(len(fibers_array)):\n",
    "        \n",
    "        if (ridx == 83) or (cidx == 83):\n",
    "            fibers_array[ridx, cidx] = np.nan\n",
    "        else:\n",
    "            if ridx == 34 and cidx == 34: fibers_array[ridx, cidx] = struct_conn[rightth][:, rightth].mean()\n",
    "            elif ridx == 34 and cidx == 75: fibers_array[ridx, cidx] = struct_conn[rightth][:, leftth].mean()\n",
    "            elif ridx == 75 and cidx == 34: fibers_array[ridx, cidx] = struct_conn[leftth][:, rightth].mean()\n",
    "            elif ridx == 75 and cidx == 75: fibers_array[ridx, cidx] = struct_conn[leftth][:, leftth].mean()\n",
    "            else:\n",
    "                fibers_array[ridx, cidx] = struct_conn[int(match_indexes[ridx]), int(match_indexes[cidx])]\n",
    "\n",
    "\n",
    "fibers_array = fibers_array[:N, :N]\n",
    "proba_array = proba_array[:N, :N]"
   ]
  },
  {
   "cell_type": "code",
   "execution_count": 100,
   "metadata": {},
   "outputs": [],
   "source": [
    "roi_path = op.join(data_path, 'fiber_atlas/gmlabels_vol.nii')\n",
    "roi_atlas, affine = nib.load(roi_path).get_fdata(), nib.load(roi_path).affine\n",
    "\n",
    "roi_atlas2008 = np.zeros_like(roi_atlas)\n",
    "for k in range(N):\n",
    "    if match_indexes[k] != -1:\n",
    "        roi_atlas2008[roi_atlas == (match_indexes[k]+1)] = k+1\n",
    "\n",
    "for ridx in rightth:\n",
    "    roi_atlas2008[roi_atlas == (ridx+1)] = 35\n",
    "\n",
    "for lidx in leftth:\n",
    "    roi_atlas2008[roi_atlas == (lidx+1)] = 76"
   ]
  },
  {
   "cell_type": "code",
   "execution_count": 49,
   "metadata": {},
   "outputs": [],
   "source": [
    "# edges i,j of directed connectome follows rule of P_i,j/P_j,i = D_i,j/D_j,i and D_i,j + D_j,i = 1\n",
    "directed_connectome = np.zeros_like(fibers_array)\n",
    "for nbr in range(83):\n",
    "    for nbc in range(nbr, 83):\n",
    "        if fibers_array[nbr, nbc]:\n",
    "            if (np.isnan(proba_array[nbr, nbc]) & np.isnan(proba_array[nbc, nbr])) or ((proba_array[nbc, nbr] == 0) & (proba_array[nbr, nbc] == 0)):\n",
    "                continue\n",
    "            elif np.isnan(proba_array[nbr, nbc]) or (proba_array[nbr, nbc] == 0):\n",
    "                directed_connectome[nbc, nbr] = 1.0\n",
    "            elif np.isnan(proba_array[nbc, nbr]) or (proba_array[nbc, nbr] == 0):\n",
    "                directed_connectome[nbr, nbc] = 1.0\n",
    "            else:\n",
    "                directed_connectome[nbr, nbc] = 1 / (1+proba_array[nbc, nbr]/proba_array[nbr, nbc])\n",
    "                directed_connectome[nbc, nbr] = 1 / (1+proba_array[nbr, nbc]/proba_array[nbc, nbr])"
   ]
  },
  {
   "cell_type": "code",
   "execution_count": 54,
   "metadata": {},
   "outputs": [
    {
     "name": "stdout",
     "output_type": "stream",
     "text": [
      "Non connected nodes index: 39\n",
      "Is the graph connected - post adding edges to non connected nodes? : True\n"
     ]
    }
   ],
   "source": [
    "least_quantile = np.quantile(directed_connectome.flatten()[directed_connectome.flatten()!=0], 0.05) # 5% non significancy\n",
    "A = (directed_connectome > least_quantile).astype(float)\n",
    "\n",
    "print(f\"Non connected nodes index: {np.where((A.sum(axis=0) + A.sum(axis=1))==0)[0][0]}\")\n",
    "# NOTE: Since nodes 39 seem to be non connected let's connect it using structural connectome\n",
    "# A[39] = struct_conn[39] > np.quantile(struct_conn[39], 0.95)\n",
    "# and we give 0.5 to one direction and 0.5 to the other\n",
    "\n",
    "A[39] = fibers_array[39] > 0.95\n",
    "A[:, 39] = fibers_array[:, 39] > 0.95\n",
    "\n",
    "# mask_valid = np.ones(N) ; mask_valid[39] = 0\n",
    "# mask_valid = mask_valid.astype(bool)\n",
    "# A = A[mask_valid][:,mask_valid]\n",
    "\n",
    "G = nx.from_numpy_array(A)\n",
    "print(f\"Is the graph connected - post adding edges to non connected nodes? : {nx.is_connected(G)}\")"
   ]
  },
  {
   "cell_type": "code",
   "execution_count": 107,
   "metadata": {},
   "outputs": [],
   "source": [
    "from src import utils\n",
    "package = {'struct': A, 'atlas': nib.Nifti1Image(roi_atlas2008, affine), 'regionnames': atlas_2008_regions[:N]}\n",
    "utils.save('./bin_directed_connectome_ftract+structural-d50+metadata.pkl', package)\n"
   ]
  },
  {
   "cell_type": "code",
   "execution_count": null,
   "metadata": {},
   "outputs": [],
   "source": []
  },
  {
   "cell_type": "code",
   "execution_count": null,
   "metadata": {},
   "outputs": [],
   "source": []
  },
  {
   "cell_type": "code",
   "execution_count": null,
   "metadata": {},
   "outputs": [],
   "source": []
  },
  {
   "cell_type": "markdown",
   "metadata": {},
   "source": [
    "Attempt to display on mesh"
   ]
  },
  {
   "cell_type": "code",
   "execution_count": 65,
   "metadata": {},
   "outputs": [],
   "source": [
    "with open(op.join(data_path, 'lausanne2008_33-extra_data', 'region_labels.txt'), 'r') as f:\n",
    "    region_labels_2008 = f.readlines()"
   ]
  },
  {
   "cell_type": "code",
   "execution_count": 77,
   "metadata": {},
   "outputs": [],
   "source": [
    "with open('../../../../Desktop/regions_index.txt', \"w\") as f:\n",
    "    for k in range(len(region_labels_2008)):\n",
    "        f.write(f'{k+1};'+region_labels_2008[k])"
   ]
  },
  {
   "cell_type": "code",
   "execution_count": 133,
   "metadata": {},
   "outputs": [],
   "source": [
    "# load mesh\n",
    "from stl import mesh\n",
    "bear_mesh = mesh.Mesh.from_file(op.join(data_path, 'lausanne2008_33-extra_data', 'lausanne_2008_meshes', 'meshL_superiorfrontal-.k8.stl'))\n",
    "\n",
    "# f1: point1 in faces | f2: point2 in faces ...\n",
    "f1 = bear_mesh.vectors[:,0,:]\n",
    "f2 = bear_mesh.vectors[:,1,:]\n",
    "f3 = bear_mesh.vectors[:,2,:]\n",
    "nb_faces = f1.shape[0]\n",
    "\n",
    "# associate index to each 3d point\n",
    "coord2idx = {}\n",
    "c = 0\n",
    "f = np.concatenate([f1,f2,f3])\n",
    "for k in range(nb_faces * 3):\n",
    "    tmp = tuple(f[k])\n",
    "    if tmp not in coord2idx:\n",
    "        coord2idx[tmp] = c\n",
    "        c += 1\n",
    "\n",
    "vertices = np.array(list(coord2idx.keys()))\n",
    "nb_nodes = np.array(list(coord2idx.values())).max() + 1\n",
    "\n",
    "# bool array as flags\n",
    "head_indexes = (vertices[:,1] < -6)\n",
    "\n",
    "faces_index = []\n",
    "head_coloring = []\n",
    "for k in range(nb_faces):\n",
    "    # convert to index the coordinate\n",
    "    idx1 = coord2idx[tuple(f1[k])]\n",
    "    idx2 = coord2idx[tuple(f2[k])]\n",
    "    idx3 = coord2idx[tuple(f3[k])]\n",
    "\n",
    "    faces_index.append([idx1,idx2,idx3])\n",
    "    c = int(head_indexes[idx1] + head_indexes[idx2] + head_indexes[idx3])\n",
    "    head_coloring.append(c)"
   ]
  },
  {
   "cell_type": "code",
   "execution_count": 134,
   "metadata": {},
   "outputs": [
    {
     "data": {
      "text/plain": [
       "(array([ 6.672968 , -7.913693 ,  1.6899762], dtype=float32),\n",
       " array([23.035965, 64.39081 , 69.03007 ], dtype=float32))"
      ]
     },
     "execution_count": 134,
     "metadata": {},
     "output_type": "execute_result"
    }
   ],
   "source": [
    "vertices.min(axis=0), vertices.max(axis=0)"
   ]
  },
  {
   "cell_type": "code",
   "execution_count": 135,
   "metadata": {},
   "outputs": [],
   "source": [
    "from mpl_toolkits.mplot3d import Axes3D, art3d\n",
    "def plot_mesh(vertices, f_index, f_colors, title=\"ZE brain\", view_init=(0,-136)):\n",
    "    \"\"\"\n",
    "    Information:\n",
    "    ------------\n",
    "    Plot 1 mesh given vertices and faces and faces colors\n",
    "\n",
    "    Parameters\n",
    "    ----------    \n",
    "    vertices::[2darray<float>]\n",
    "        Vertex positions in 3d\n",
    "    f_index ::[2darray<int>]\n",
    "        array of faces with faces being 3 vertices' index in vertices array\n",
    "    f_colors::[1darray<float>]\n",
    "        color to faces\n",
    "\n",
    "    Returns\n",
    "    -------\n",
    "    None\n",
    "    \"\"\"\n",
    "\n",
    "    fig = plt.figure()\n",
    "    ax = fig.add_subplot(projection=\"3d\")\n",
    "\n",
    "    norm = plt.Normalize(f_colors.min(), f_colors.max())\n",
    "    colors = plt.cm.viridis(norm(f_colors))\n",
    "\n",
    "    pc = art3d.Poly3DCollection(vertices[f_index],\n",
    "                                facecolors=colors)\n",
    "\n",
    "    ax.add_collection(pc)\n",
    "    ax.set_xlim(27,42)\n",
    "    ax.set_ylim(-78,2)\n",
    "    ax.set_zlim(-40,0)\n",
    "    ax.set_title(title)\n",
    "    # ax.axis('off')\n",
    "\n",
    "    ax.view_init(view_init[0], view_init[1])\n",
    "    plt.show()"
   ]
  },
  {
   "cell_type": "code",
   "execution_count": 136,
   "metadata": {},
   "outputs": [
    {
     "data": {
      "image/png": "[encoded data removed]",
      "text/plain": [
       "<Figure size 640x480 with 1 Axes>"
      ]
     },
     "metadata": {},
     "output_type": "display_data"
    }
   ],
   "source": [
    "faces_index = np.asarray(faces_index)\n",
    "head_coloring = np.asarray(head_coloring)\n",
    "plot_mesh(vertices, faces_index, head_coloring)"
   ]
  },
  {
   "cell_type": "code",
   "execution_count": null,
   "metadata": {},
   "outputs": [],
   "source": []
  }
 ],
 "metadata": {
  "kernelspec": {
   "display_name": "effective_delay",
   "language": "python",
   "name": "python3"
  },
  "language_info": {
   "codemirror_mode": {
    "name": "ipython",
    "version": 3
   },
   "file_extension": ".py",
   "mimetype": "text/x-python",
   "name": "python",
   "nbconvert_exporter": "python",
   "pygments_lexer": "ipython3",
   "version": "3.11.9"
  }
 },
 "nbformat": 4,
 "nbformat_minor": 2
}
