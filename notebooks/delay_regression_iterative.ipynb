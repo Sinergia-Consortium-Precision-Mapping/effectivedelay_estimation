{
 "cells": [
  {
   "cell_type": "code",
   "execution_count": 19,
   "metadata": {},
   "outputs": [],
   "source": [
    "import numpy as np\n",
    "\n",
    "import networkx as nx\n",
    "import matplotlib.pyplot as plt\n",
    "\n",
    "from copy import deepcopy\n",
    "\n",
    "import os.path as op\n",
    "import sys\n",
    "sys.path.append(\"../\")\n",
    "\n",
    "from src import regmod\n",
    "from src import utils\n",
    "from src import solver\n",
    "\n",
    "import importlib\n",
    "\n",
    "import seaborn as sns"
   ]
  },
  {
   "cell_type": "code",
   "execution_count": 20,
   "metadata": {},
   "outputs": [],
   "source": [
    "save_plots = False"
   ]
  },
  {
   "cell_type": "markdown",
   "metadata": {},
   "source": [
    "## Synthetic Example"
   ]
  },
  {
   "cell_type": "code",
   "execution_count": null,
   "metadata": {},
   "outputs": [],
   "source": [
    "path_to_data = \"../resources\"\n",
    "\n",
    "fig, axes = plt.subplots(nrows=1, ncols=2, figsize=(10, 5))\n",
    "\n",
    "filename = \"adjacency_synthetic.pkl\"\n",
    "\n",
    "adj = utils.load(op.join(path_to_data, filename))\n",
    "adj -= np.diag(np.diag(adj))\n",
    "\n",
    "axes[0].imshow(adj, cmap='gray')\n",
    "axes[0].set_title('Structural connectivity')\n",
    "toy_graph = nx.Graph(adj)\n",
    "nx.draw(toy_graph, ax=axes[1], with_labels=True)"
   ]
  },
  {
   "cell_type": "markdown",
   "metadata": {},
   "source": [
    "### Example of a forward pass"
   ]
  },
  {
   "cell_type": "code",
   "execution_count": null,
   "metadata": {},
   "outputs": [],
   "source": [
    "importlib.reload(regmod)\n",
    "\n",
    "max_path_depth = 4\n",
    "\n",
    "# multi_hops_design = regmod.get_path_matrices(adj, max_path_depth)\n",
    "\n",
    "a = 0\n",
    "# Computes the alpha vector as alpha_n = a^n\n",
    "alpha = [a**(i+1) for i in range(max_path_depth)]\n",
    "#alpha = a\n",
    "\n",
    "# design_shortest = regmod.combine_paths_matrices(multi_hops_design, alpha=alpha)\n",
    "a = np.arange(0, 20, 1)/20\n",
    "design_shortest = regmod.build_design_shortest(adj, n_subopt=1, alpha=a)\n",
    "design_model = design_shortest\n",
    "\n",
    "y_pred_mat = regmod.predict_conduction_delays(design_model, adj, invert_weights=False)\n",
    "\n",
    "fig, axes = plt.subplots(nrows=1, ncols=4, figsize=(20, 5))\n",
    "fig.suptitle(rf\"Path design matrix, $\\alpha=$\"+\" \".join([f\"{a:1.4f}\" for a in list(alpha)]))\n",
    "axes[0].imshow(y_pred_mat, cmap='hot')\n",
    "axes[0].set_title(\"Conductance delays $\\hat{y}$\")\n",
    "utils.add_cbar(fig, axes[0])\n",
    "utils.annotate_heatmap(fig, axes[0], y_pred_mat, adapt_color=0.6)\n",
    "\n",
    "axes[1].imshow(design_model, cmap='gray')#, vmax=y_pred_mat.max())\n",
    "axes[1].set_title(\"Design matrix\")\n",
    "utils.add_cbar(fig, axes[1])\n",
    "\n",
    "axes[2].imshow(adj, cmap='gray')#, vmax=y_pred_mat.max())\n",
    "axes[2].set_title(\"Effective delays $x=\\mathbf{1}$ (if bundle)\")\n",
    "utils.add_cbar(fig, axes[2])\n",
    "\n",
    "nx.draw(toy_graph, ax=axes[3], with_labels=True)"
   ]
  },
  {
   "cell_type": "markdown",
   "metadata": {},
   "source": [
    "### Backward pass: Initialization with pseudo-inverse + iterative optimization"
   ]
  },
  {
   "cell_type": "code",
   "execution_count": null,
   "metadata": {},
   "outputs": [],
   "source": [
    "max_path_depth = 4\n",
    "\n",
    "a = 0\n",
    "alpha = [a**(i+1) for i in range(max_path_depth)]\n",
    "#alpha = a\n",
    "\n",
    "a = np.arange(0, 20, 1)/20\n",
    "design_shortest = regmod.build_design_shortest(adj, n_subopt=1, alpha=a)\n",
    "design_model = design_shortest\n",
    "\n",
    "x_ground = utils.remove_diagonal_entries(adj).flatten()\n",
    "\n",
    "alpha = solver.torch.tensor(alpha)\n",
    "\n",
    "design_shortest = regmod.build_design_shortest(adj, n_subopt=1, alpha=a)\n",
    "design_model = solver.torch.tensor(design_shortest)\n",
    "\n",
    "y_pred = solver.forward(design_model, solver.torch.tensor(x_ground))\n",
    "x_pseudo = solver.pseudo_inverse(y_pred.numpy(), a_design=design_model.numpy())\n",
    "\n",
    "y_ground = solver.torch.tensor(utils.deepcopy(y_pred))\n",
    "init_pseudo = False\n",
    "if init_pseudo:\n",
    "    x_init = solver.torch.tensor(x_pseudo).requires_grad_(True)\n",
    "else:\n",
    "    np.random.seed(99)\n",
    "    x_init = solver.torch.tensor(np.random.rand(len(x_ground))).requires_grad_(True)\n",
    "\n",
    "# alphas_init = solver.torch.tensor(np.random.rand(len(alpha))).requires_grad_(True)"
   ]
  },
  {
   "cell_type": "code",
   "execution_count": 26,
   "metadata": {},
   "outputs": [],
   "source": [
    "x = utils.deepcopy(x_init)\n",
    "x_opt, loss = solver.gradient_descent_solver(x, y_ground, design_model,\n",
    "                                            n_iter=20000, verbose=False, early_stop=1e-10, step_size=1e-2)"
   ]
  },
  {
   "cell_type": "code",
   "execution_count": null,
   "metadata": {},
   "outputs": [],
   "source": [
    "x_ground_mat = utils.add_diagonal_entries(x_ground.reshape(adj.shape[0], adj.shape[1]-1))\n",
    "x_pred_mat = utils.add_diagonal_entries(x_opt.reshape(adj.shape[0], adj.shape[1]-1))\n",
    "\n",
    "fig, axes = plt.subplots(nrows=1, ncols=2, figsize=(10, 5))\n",
    "fig.suptitle(rf\"Path design matrix, $\\alpha=$\"+\" \".join([f\"{a:1.4f}\" for a in list(alpha)]))\n",
    "axes[0].imshow(x_ground_mat, cmap='gray')\n",
    "axes[0].set_title(\"Effective delays $x=\\mathbf{1}$ (if bundle)\")\n",
    "utils.add_cbar(fig, axes[0])\n",
    "utils.annotate_heatmap(fig, axes[0], x_ground_mat, adapt_color=0.6)\n",
    "\n",
    "axes[1].imshow(x_pred_mat, cmap='gray')#, vmax=y_pred_mat.max())\n",
    "axes[1].set_title(f\"Estimated Effective delays w/ loss={np.round(loss,4)}\")\n",
    "utils.add_cbar(fig, axes[1])\n",
    "# NOTE: we need to rechek this, it seems that the colors are flipped? (transposed?)\n",
    "utils.annotate_heatmap(fig, axes[1], x_pred_mat.T, adapt_color=0.6)"
   ]
  },
  {
   "cell_type": "markdown",
   "metadata": {},
   "source": [
    "## F-tract Example\n",
    "\n",
    "Contents:\n",
    "- Sanity check \n",
    "    - generating measured delay by considering only 1s delay for all bundles\n",
    "    - verifying that the solver regresses back the only 1 delays\n",
    "\n",
    "- Regressing conductance delays"
   ]
  },
  {
   "cell_type": "code",
   "execution_count": null,
   "metadata": {},
   "outputs": [],
   "source": [
    "path_to_data = \"../resources\"\n",
    "\n",
    "# Could be 50, 100, 200, 400\n",
    "delay_max = 400\n",
    "#path_to_ftract = f\"../../atlas_data/F-TRACT-090624/{delay_max}\"\n",
    "path_to_ftract = f\"/Users/acionca/data/F-TRACT-090624/{delay_max}\"\n",
    "path_to_ftract_compare = op.join(path_to_ftract, f\"../{100}\")\n",
    "\n",
    "filename = \"bundle_probability_atlas.pkl\"\n",
    "\n",
    "adj = utils.load(op.join(path_to_data, filename))\n",
    "\n",
    "adj = adj[:83, :83]\n",
    "adj -= np.diag(np.diag(adj))\n",
    "\n",
    "bundle_prob_thresh = 0.9\n",
    "\n",
    "adj = (adj > bundle_prob_thresh).astype(int)\n",
    "\n",
    "bundle_prob = utils.load(op.join(path_to_data, \"bundle_probability_atlas.pkl\"))\n",
    "bundle_prob = bundle_prob[:83, :83]\n",
    "bundle_prob -= np.diag(np.diag(bundle_prob))\n",
    "ftract_prob = utils.load(op.join(path_to_data, \"adj_probability_ftract.pkl\"))\n",
    "ftract_prob = ftract_prob[:83, :83]\n",
    "\n",
    "fig, axes = plt.subplots(nrows=1, ncols=2, figsize=(10, 5))\n",
    "\n",
    "axes[0].imshow(adj, cmap='gray')\n",
    "axes[0].set_title('Structural connectivity')\n",
    "toy_graph = nx.Graph(adj)\n",
    "nx.draw(toy_graph, ax=axes[1], with_labels=True)"
   ]
  },
  {
   "cell_type": "code",
   "execution_count": null,
   "metadata": {},
   "outputs": [],
   "source": [
    "max_path_depth = 3\n",
    "\n",
    "#multi_hops_design = regmod.get_path_matrices(adj, max_path_depth)\n",
    "\n",
    "#a = 0\n",
    "# Computes the alpha vector as alpha_n = a^n\n",
    "#alpha = [a**(i+1) for i in range(max_path_depth)]\n",
    "#alpha = a\n",
    "\n",
    "#design_shortest = regmod.combine_paths_matrices(multi_hops_design, alpha=alpha)\n",
    "design_shortest = regmod.build_design_shortest(adj, n_subopt=1, alpha=0.5)\n",
    "\n",
    "y_pred_mat = regmod.predict_conduction_delays(design_shortest, adj, invert_weights=False)\n",
    "\n",
    "fig, axes = plt.subplots(nrows=1, ncols=4, figsize=(20, 5))\n",
    "fig.suptitle(rf\"Path design matrix, $\\alpha=$\"+\" \".join([f\"{a:1.4f}\" for a in list(alpha)]))\n",
    "axes[0].imshow(y_pred_mat, cmap='hot', interpolation=None)\n",
    "axes[0].set_title(\"Conductance delays $\\hat{y}$\")\n",
    "utils.add_cbar(fig, axes[0])\n",
    "#utils.annotate_heatmap(fig, axes[0], y_pred_mat, adapt_color=0.6)\n",
    "\n",
    "axes[1].imshow(design_shortest, cmap='gray')#, vmax=y_pred_mat.max())\n",
    "axes[1].set_title(\"Design matrix\")\n",
    "utils.add_cbar(fig, axes[1])\n",
    "\n",
    "axes[2].imshow(adj, cmap='gray')#, vmax=y_pred_mat.max())\n",
    "axes[2].set_title(\"Effective delays $x=\\mathbf{1}$ (if bundle)\")\n",
    "utils.add_cbar(fig, axes[2])\n",
    "\n",
    "nx.draw(toy_graph, ax=axes[3], with_labels=True)"
   ]
  },
  {
   "cell_type": "markdown",
   "metadata": {},
   "source": [
    "### Sanity check"
   ]
  },
  {
   "cell_type": "code",
   "execution_count": 22,
   "metadata": {},
   "outputs": [],
   "source": [
    "reduced_adj = deepcopy(adj)\n",
    "\n",
    "x_ground = utils.remove_diagonal_entries(reduced_adj).flatten()\n",
    "\n",
    "a = 0.5\n",
    "# Computes the alpha vector as alpha_n = a^n\n",
    "alpha = solver.torch.tensor([a**(i+1) for i in range(max_path_depth)])\n",
    "\n",
    "#design_model = solver.combine_paths_matrices_torch(solver.torch.tensor(multi_hops_design), alpha=alpha)\n",
    "\n",
    "design_shortest = regmod.build_design_shortest(reduced_adj, n_subopt=1, alpha=a)\n",
    "design_model = solver.torch.tensor(design_shortest)\n",
    "x_ground = utils.remove_diagonal_entries(reduced_adj).flatten()\n",
    "y_pred = solver.forward(design_model, solver.torch.tensor(x_ground)).numpy()"
   ]
  },
  {
   "cell_type": "code",
   "execution_count": null,
   "metadata": {},
   "outputs": [],
   "source": [
    "y_pred = solver.forward(design_model, solver.torch.tensor(x_ground))\n",
    "y_ground = solver.torch.tensor(utils.deepcopy(y_pred))\n",
    "\n",
    "init_pseudo = False\n",
    "if init_pseudo:\n",
    "    x_pseudo = solver.pseudo_inverse(y_pred.numpy(), a_design=design_model.numpy())\n",
    "    x_init = solver.torch.tensor(x_pseudo).requires_grad_(True)\n",
    "else:\n",
    "    np.random.seed(99)\n",
    "    x_init = solver.torch.tensor(np.random.rand(len(x_ground))).requires_grad_(True)"
   ]
  },
  {
   "cell_type": "code",
   "execution_count": 24,
   "metadata": {},
   "outputs": [],
   "source": [
    "## Checking for zero entries in the y vector (conduction delays)\n",
    "non_zero_mask = y_ground > 0\n",
    "\n",
    "y_masked = y_ground[non_zero_mask]\n",
    "design_model_masked = design_model[non_zero_mask]"
   ]
  },
  {
   "cell_type": "code",
   "execution_count": null,
   "metadata": {},
   "outputs": [],
   "source": [
    "x = utils.deepcopy(x_init)\n",
    "x_opt, loss = solver.gradient_descent_solver(x, y_ground, design_model,\n",
    "                                            n_iter=5000, verbose=False, \n",
    "                                            early_stop=1e-10, step_size=5e-2,\n",
    "                                            l2_penalty=5e-1)"
   ]
  },
  {
   "cell_type": "code",
   "execution_count": null,
   "metadata": {},
   "outputs": [],
   "source": [
    "x_ground_mat = utils.add_diagonal_entries(x_ground.reshape(reduced_adj.shape[0], reduced_adj.shape[1]-1))\n",
    "x_pred_mat = utils.add_diagonal_entries(x_opt.reshape(reduced_adj.shape[0], reduced_adj.shape[1]-1))\n",
    "\n",
    "fig, axes = plt.subplots(nrows=1, ncols=2, figsize=(10, 5))\n",
    "fig.suptitle(rf\"Path design matrix, $\\alpha=$\"+\" \".join([f\"{a:1.4f}\" for a in list(alpha)]))\n",
    "axes[0].imshow(x_ground_mat, cmap='gray')\n",
    "axes[0].set_title(\"Effective delays $x=\\mathbf{1}$ (if bundle)\")\n",
    "utils.add_cbar(fig, axes[0])\n",
    "# utils.annotate_heatmap(fig, axes[0], x_ground_mat, adapt_color=0.6)\n",
    "\n",
    "axes[1].imshow(x_pred_mat, cmap='gray')#, vmax=y_pred_mat.max())\n",
    "axes[1].set_title(f\"Estimated Effective delays w/ loss={np.round(loss,4)}\")\n",
    "utils.add_cbar(fig, axes[1])\n",
    "# utils.annotate_heatmap(fig, axes[1], np.round(x_pred_mat,4), adapt_color=0.6)"
   ]
  },
  {
   "cell_type": "code",
   "execution_count": null,
   "metadata": {},
   "outputs": [],
   "source": [
    "fig, ax = plt.subplots(1,2, figsize=(15,5))\n",
    "#ax.imshow(np.abs(x_pred_mat - x_ground_mat) > 0.1)\n",
    "ax[0].imshow(x_pred_mat - x_ground_mat, vmin=-1e-5, vmax=1e-5)\n",
    "ax[0].set_title('Difference (>10%) map between predicted and ground truth matrices')\n",
    "ax[1].hist(np.abs(x_pred_mat - x_ground_mat).flatten())\n",
    "ax[1].set_title('Histogram of absolute differences')\n",
    "ax[1].set_xlabel('Delay differences')"
   ]
  },
  {
   "cell_type": "markdown",
   "metadata": {},
   "source": [
    "### From conductance delay"
   ]
  },
  {
   "cell_type": "code",
   "execution_count": 6,
   "metadata": {},
   "outputs": [],
   "source": [
    "# conductance delay to regress\n",
    "with open(op.join(path_to_ftract, 'peak_delay__median.txt')) as f:\n",
    "    text = f.readlines()\n",
    "\n",
    "y_ground_mat = []\n",
    "for t in text[8:]:\n",
    "    y_ground_mat.append(t.split(' '))\n",
    "y_ground_mat = np.array(y_ground_mat).astype(float)\n",
    "y_ground_mat = np.nan_to_num(y_ground_mat[:-1, :-1])\n",
    "\n",
    "prob_thresh = 0\n",
    "y_ground_mat *= ftract_prob > prob_thresh\n",
    "y_ground = solver.torch.tensor(utils.remove_diagonal_entries(y_ground_mat).flatten())\n",
    "\n",
    "with open(op.join(path_to_ftract_compare, 'peak_delay__median.txt')) as f:\n",
    "    text = f.readlines()\n",
    "\n",
    "y_ground_mat_compare = []\n",
    "for t in text[8:]:\n",
    "    y_ground_mat_compare.append(t.split(' '))\n",
    "y_ground_mat_compare = np.array(y_ground_mat_compare).astype(float)\n",
    "y_ground_mat_compare = np.nan_to_num(y_ground_mat_compare[:-1, :-1])\n",
    "\n",
    "prob_thresh = 0\n",
    "y_ground_mat_compare *= ftract_prob > prob_thresh\n",
    "y_ground_compare = solver.torch.tensor(utils.remove_diagonal_entries(y_ground_mat_compare).flatten())"
   ]
  },
  {
   "cell_type": "code",
   "execution_count": null,
   "metadata": {},
   "outputs": [],
   "source": [
    "importlib.reload(regmod)\n",
    "max_path_depth = 1\n",
    "\n",
    "#design_shortest = regmod.build_design_shortest(adj, n_subopt=max_path_depth, alpha=a)\n",
    "design_matrices = regmod.get_shortest_matrices(adj, max_path_depth, progress=True)"
   ]
  },
  {
   "cell_type": "code",
   "execution_count": 16,
   "metadata": {},
   "outputs": [],
   "source": [
    "a = 0.8\n",
    "a = np.arange(0, design_matrices.shape[1], 1)/design_matrices.shape[1]\n",
    "design_shortest = regmod.apply_alpha_to_design(design_matrix=design_matrices, n_subopt=max_path_depth, alpha=a)\n",
    "design_model = solver.torch.tensor(design_shortest)\n",
    "\n",
    "non_zero_mask = y_ground > 0\n",
    "\n",
    "y_masked = y_ground[non_zero_mask]\n",
    "design_model_masked = design_model[non_zero_mask]"
   ]
  },
  {
   "cell_type": "code",
   "execution_count": 17,
   "metadata": {},
   "outputs": [],
   "source": [
    "np.random.seed(99)\n",
    "x_init = solver.torch.tensor(np.random.rand(len(y_ground))).requires_grad_(True)\n",
    "\n",
    "x = utils.deepcopy(x_init)\n",
    "x_opt, loss = solver.gradient_descent_solver(x, y_masked, design_model_masked,\n",
    "                                            n_iter=10000, verbose=False, \n",
    "                                            early_stop=1e-10, step_size=5e-1, delta=0,\n",
    "                                            #early_stop=1e-10, step_size=5e-1,\n",
    "                                            l2_penalty=1)"
   ]
  },
  {
   "cell_type": "code",
   "execution_count": null,
   "metadata": {},
   "outputs": [],
   "source": [
    "x_pred_mat = utils.add_diagonal_entries(x_opt.reshape(adj.shape[0], adj.shape[1]-1))\n",
    "\n",
    "fig, axes = plt.subplots(ncols=2, figsize=(10, 5))\n",
    "fig.suptitle(rf\"Path design matrix, $\\alpha={a}$\", fontsize=14)\n",
    "\n",
    "axes[0].imshow(y_ground_mat, cmap='gray')\n",
    "axes[0].set_title(f\"Conduction delays $y$\", fontsize=12)\n",
    "axes[0].set_xlabel(\"Region\", fontsize=12)\n",
    "axes[0].set_ylabel(\"Region\", fontsize=12)\n",
    "utils.add_cbar(fig, axes[0])\n",
    "# utils.annotate_heatmap(fig, axes, np.round(x_pred_mat,4), adapt_color=0.6)\n",
    "\n",
    "prop_loss = loss / np.sum(y_ground_mat != 0)\n",
    "axes[1].imshow(x_pred_mat, cmap='gray')\n",
    "axes[1].set_title(f\"Effective delays $x$ (loss={np.round(prop_loss,4)} ms/edge)\", fontsize=12)\n",
    "utils.add_cbar(fig, axes[1])\n",
    "\n",
    "#axes[2].imshow(x_pred_mat, cmap='gray', vmin=0)\n",
    "#axes[2].set_title(f\"Clipped $\\hat y$\")\n",
    "#utils.add_cbar(fig, axes[2])\n",
    "\n",
    "# if save_plots:\n",
    "#     fig.savefig(f\"../figures/estimated_delays_a{a}.png\", dpi=300)"
   ]
  },
  {
   "cell_type": "code",
   "execution_count": null,
   "metadata": {},
   "outputs": [],
   "source": [
    "# plot the mapping curve and see what it looks like\n",
    "x1 = x_opt\n",
    "x2 = y_ground_compare\n",
    "y = y_ground\n",
    "\n",
    "x1_mask = x1 > 1\n",
    "x2_mask = x2 > 1\n",
    "y_mask = y != 0\n",
    "xy_mask1 = np.logical_and(x1_mask, y_mask).numpy().astype(bool)\n",
    "xy_mask2 = np.logical_and(x2_mask, y_mask).numpy().astype(bool)\n",
    "\n",
    "fig, ax = plt.subplots(1,1, figsize=(10,6))\n",
    "\n",
    "ax.scatter(y[xy_mask1], x1[xy_mask1], s=20, alpha=.25, edgecolors=\"none\", color='red', label=r'$\\alpha=0.8$')\n",
    "ax.scatter(y[xy_mask2], x2[xy_mask2], s=20, alpha=.25, edgecolors=\"none\", color='blue', label=r'peak-delay $100$')\n",
    "# ax.scatter(y[~y_mask], x[~y_mask], s=100, alpha=.4, color=\"tab:brown\", edgecolors=\"none\")\n",
    "# ax.scatter(y[~x_mask], x[~x_mask], s=100, alpha=.4, color=\"tab:purple\", edgecolors=\"none\")\n",
    "ax.plot(np.linspace(0,150), np.linspace(0,150), linestyle='--', color=\"gray\", linewidth=2, label=\"1:1\")\n",
    "\n",
    "ax.set_xlabel(\"Conductance delays\", fontsize=16)\n",
    "ax.set_ylabel(\"Effective delays\", fontsize=16)\n",
    "ax.tick_params(labelsize=14)\n",
    "ax.legend(fontsize=16)\n",
    "\n",
    "# ax.legend([\"Non-zero\", \"Zero effective delays\", \"Zero conductance delays\"], fontsize=16)\n",
    "# ax.legend([\"Non-zero\"], fontsize=16)\n",
    "\n",
    "# if save_plots:\n",
    "#     fig.savefig(\"../figures/scatter-effective_conductance.png\", dpi=300)"
   ]
  },
  {
   "cell_type": "markdown",
   "metadata": {},
   "source": [
    "# Visualize when including $\\delta$"
   ]
  },
  {
   "cell_type": "code",
   "execution_count": 37,
   "metadata": {},
   "outputs": [],
   "source": [
    "with open(op.join(path_to_ftract, 'peak_delay__median.txt')) as f:\n",
    "    text = f.readlines()\n",
    "\n",
    "y_ground_mat = []\n",
    "for t in text[8:]:\n",
    "    y_ground_mat.append(t.split(' '))\n",
    "y_ground_mat = np.array(y_ground_mat).astype(float)\n",
    "y_ground_mat = np.nan_to_num(y_ground_mat[:-1, :-1])\n",
    "\n",
    "prob_thresh = 0\n",
    "y_ground_mat *= ftract_prob > prob_thresh\n",
    "y_ground = solver.torch.tensor(utils.remove_diagonal_entries(y_ground_mat).flatten())\n",
    "\n",
    "with open('../resources/speed__fibres__dcm_axonal_delay__median.txt') as f:\n",
    "    text = f.readlines()\n",
    "\n",
    "y_ground_mat_compare = []\n",
    "for t in text[8:]:\n",
    "    y_ground_mat_compare.append(t.split(' '))\n",
    "y_ground_mat_compare = np.array(y_ground_mat_compare).astype(float)\n",
    "y_ground_mat_compare = np.nan_to_num(y_ground_mat_compare[:-1, :-1])\n",
    "\n",
    "prob_thresh = 0\n",
    "y_ground_mat_compare *= ftract_prob > prob_thresh\n",
    "y_ground_compare = solver.torch.tensor(utils.remove_diagonal_entries(y_ground_mat_compare).flatten())"
   ]
  },
  {
   "cell_type": "code",
   "execution_count": 38,
   "metadata": {},
   "outputs": [],
   "source": [
    "max_path_depth = 1\n",
    "a = 0.8\n",
    "\n",
    "design_shortest = regmod.build_design_shortest(adj, n_subopt=max_path_depth, alpha=a)\n",
    "design_model = solver.torch.tensor(design_shortest)\n",
    "\n",
    "non_zero_mask = y_ground > 0\n",
    "y_masked = y_ground[non_zero_mask]\n",
    "design_model_masked = design_model[non_zero_mask]"
   ]
  },
  {
   "cell_type": "code",
   "execution_count": null,
   "metadata": {},
   "outputs": [],
   "source": [
    "np.random.seed(99)\n",
    "x_init = solver.torch.tensor(np.random.rand(len(y_ground))).requires_grad_(True)\n",
    "\n",
    "x = utils.deepcopy(x_init)\n",
    "x_opt, loss = solver.gradient_descent_solver(x, y_masked, design_model_masked,\n",
    "                                            n_iter=10000, verbose=False, \n",
    "                                            early_stop=1e-10, step_size=5e-1, delta=30,\n",
    "                                            #early_stop=1e-10, step_size=5e-1,\n",
    "                                            l2_penalty=1)"
   ]
  },
  {
   "cell_type": "code",
   "execution_count": null,
   "metadata": {},
   "outputs": [],
   "source": [
    "x_pred_mat = utils.add_diagonal_entries(x_opt.reshape(adj.shape[0], adj.shape[1]-1))\n",
    "\n",
    "fig, axes = plt.subplots(ncols=2, figsize=(10, 5))\n",
    "fig.suptitle(rf\"Path design matrix, $\\delta={30}$\", fontsize=14)\n",
    "\n",
    "axes[0].imshow(y_ground_mat, cmap='gray')\n",
    "axes[0].set_title(f\"Conduction delays $y$\", fontsize=12)\n",
    "axes[0].set_xlabel(\"Region\", fontsize=12)\n",
    "axes[0].set_ylabel(\"Region\", fontsize=12)\n",
    "utils.add_cbar(fig, axes[0])\n",
    "# utils.annotate_heatmap(fig, axes, np.round(x_pred_mat,4), adapt_color=0.6)\n",
    "\n",
    "prop_loss = loss / np.sum(y_ground_mat != 0)\n",
    "axes[1].imshow(x_pred_mat, cmap='gray')\n",
    "axes[1].set_title(f\"Effective delays $x$ (loss={np.round(prop_loss,4)} ms/edge)\", fontsize=12)\n",
    "utils.add_cbar(fig, axes[1])\n",
    "\n",
    "#axes[2].imshow(x_pred_mat, cmap='gray', vmin=0)\n",
    "#axes[2].set_title(f\"Clipped $\\hat y$\")\n",
    "#utils.add_cbar(fig, axes[2])\n",
    "\n",
    "# if save_plots:\n",
    "#     fig.savefig(f\"../figures/estimated_delays_a{a}.png\", dpi=300)"
   ]
  },
  {
   "cell_type": "code",
   "execution_count": null,
   "metadata": {},
   "outputs": [],
   "source": [
    "# plot the mapping curve and see what it looks like\n",
    "x1 = x_opt\n",
    "x2 = y_ground_compare\n",
    "y = y_ground\n",
    "\n",
    "x1_mask = x1 > 1\n",
    "x2_mask = (x2 > 1) & (x2 < 100)\n",
    "y_mask = y != 0\n",
    "xy_mask1 = np.logical_and(x1_mask, y_mask).numpy().astype(bool)\n",
    "xy_mask2 = np.logical_and(x2_mask, y_mask).numpy().astype(bool)\n",
    "\n",
    "fig, ax = plt.subplots(1,1, figsize=(10,6))\n",
    "\n",
    "ax.scatter(y[xy_mask1], x1[xy_mask1], s=20, alpha=.25, edgecolors=\"none\", color='red', label=r'$\\delta=30$')\n",
    "ax.scatter(y[xy_mask2], x2[xy_mask2], s=20, alpha=.25, edgecolors=\"none\", color='blue', label=r'dcm-est')\n",
    "# ax.scatter(y[~y_mask], x[~y_mask], s=100, alpha=.4, color=\"tab:brown\", edgecolors=\"none\")\n",
    "# ax.scatter(y[~x_mask], x[~x_mask], s=100, alpha=.4, color=\"tab:purple\", edgecolors=\"none\")\n",
    "ax.plot(np.linspace(0,100), np.linspace(0,100), linestyle='--', color=\"gray\", linewidth=2, label=\"1:1\")\n",
    "\n",
    "ax.set_xlabel(\"Conductance delays\", fontsize=16)\n",
    "ax.set_ylabel(\"Effective delays\", fontsize=16)\n",
    "ax.tick_params(labelsize=14)\n",
    "ax.legend(fontsize=16)\n",
    "\n",
    "# ax.legend([\"Non-zero\", \"Zero effective delays\", \"Zero conductance delays\"], fontsize=16)\n",
    "# ax.legend([\"Non-zero\"], fontsize=16)\n",
    "\n",
    "# if save_plots:\n",
    "#     fig.savefig(\"../figures/scatter-effective_conductance.png\", dpi=300)"
   ]
  },
  {
   "cell_type": "code",
   "execution_count": null,
   "metadata": {},
   "outputs": [],
   "source": []
  },
  {
   "cell_type": "code",
   "execution_count": null,
   "metadata": {},
   "outputs": [],
   "source": []
  }
 ],
 "metadata": {
  "kernelspec": {
   "display_name": "effective_delay",
   "language": "python",
   "name": "python3"
  },
  "language_info": {
   "codemirror_mode": {
    "name": "ipython",
    "version": 3
   },
   "file_extension": ".py",
   "mimetype": "text/x-python",
   "name": "python",
   "nbconvert_exporter": "python",
   "pygments_lexer": "ipython3",
   "version": "3.11.9"
  }
 },
 "nbformat": 4,
 "nbformat_minor": 2
}
