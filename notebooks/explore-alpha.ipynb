{
 "cells": [
  {
   "cell_type": "code",
   "execution_count": null,
   "metadata": {},
   "outputs": [],
   "source": [
    "import numpy as np\n",
    "\n",
    "import networkx as nx\n",
    "import matplotlib.pyplot as plt\n",
    "\n",
    "import os.path as op\n",
    "import sys\n",
    "sys.path.append(\"../\")\n",
    "\n",
    "from src import regmod\n",
    "from src import utils"
   ]
  },
  {
   "cell_type": "code",
   "execution_count": null,
   "metadata": {},
   "outputs": [],
   "source": [
    "path_to_data = \"../resources\"\n",
    "\n",
    "fig, axes = plt.subplots(nrows=1, ncols=2, figsize=(10, 5))\n",
    "\n",
    "filename = \"adjacency_synthetic.pkl\"\n",
    "\n",
    "adj = utils.load(op.join(path_to_data, filename))\n",
    "adj -= np.diag(np.diag(adj))\n",
    "\n",
    "axes[0].imshow(adj, cmap='gray')\n",
    "axes[0].set_title('Structural connectivity')\n",
    "toy_graph = nx.Graph(adj)\n",
    "nx.draw(toy_graph, ax=axes[1], with_labels=True)"
   ]
  },
  {
   "cell_type": "markdown",
   "metadata": {},
   "source": [
    "## What would be the conduction delays if all \"effective\" delays were ones\n",
    "We use $x$ as a matrix of 1s if there is an edge between two regions (i.e. the binary structural connectome) and visualize what is $\\hat{y}=Ax$."
   ]
  },
  {
   "cell_type": "code",
   "execution_count": null,
   "metadata": {},
   "outputs": [],
   "source": [
    "import importlib\n",
    "importlib.reload(regmod)\n",
    "importlib.reload(utils)\n",
    "\n",
    "max_path_depth = 4\n",
    "\n",
    "multi_hops_design = regmod.get_path_matrices(adj, max_path_depth)\n",
    "\n",
    "fig, axes = plt.subplots(ncols=len(multi_hops_design), figsize=(15, 6))\n",
    "for i, (mat, ax) in enumerate(zip(multi_hops_design, axes)):\n",
    "    ax.imshow(mat, cmap='gray')\n",
    "    ax.set_xticks([])\n",
    "    ax.set_yticks([])\n",
    "    utils.add_cbar(fig, ax)\n",
    "    ax.set_title(f\"Design matrix {i+1} hops\")\n",
    "\n",
    "a = 1\n",
    "# Computes the alpha vector as alpha_n = a^n\n",
    "alpha = [a**(i+1) for i in range(max_path_depth)]\n",
    "#alpha = a\n",
    "\n",
    "design_shortest = regmod.combine_paths_matrices(multi_hops_design, alpha=alpha)\n",
    "design_model = design_shortest\n",
    "\n",
    "y_pred_mat = regmod.predict_conduction_delays(design_model, adj, invert_weights=False)\n",
    "\n",
    "fig, axes = plt.subplots(nrows=1, ncols=4, figsize=(20, 5))\n",
    "fig.suptitle(rf\"Path design matrix, $\\alpha=$\"+\" \".join([f\"{a:1.4f}\" for a in list(alpha)]))\n",
    "axes[0].imshow(y_pred_mat, cmap='hot')\n",
    "axes[0].set_title(\"Conductance delays $\\hat{y}$\")\n",
    "utils.add_cbar(fig, axes[0])\n",
    "utils.annotate_heatmap(fig, axes[0], y_pred_mat, adapt_color=0.6)\n",
    "\n",
    "axes[1].imshow(design_model, cmap='gray')#, vmax=y_pred_mat.max())\n",
    "axes[1].set_title(\"Design matrix\")\n",
    "utils.add_cbar(fig, axes[1])\n",
    "\n",
    "axes[2].imshow(adj, cmap='gray')#, vmax=y_pred_mat.max())\n",
    "axes[2].set_title(\"Effective delays $x=\\mathbf{1}$ (if bundle)\")\n",
    "utils.add_cbar(fig, axes[2])\n",
    "\n",
    "\n",
    "nx.draw(toy_graph, ax=axes[3], with_labels=True)"
   ]
  },
  {
   "cell_type": "markdown",
   "metadata": {},
   "source": [
    "## Now what happens if we increase the value of $\\alpha$ ?"
   ]
  },
  {
   "cell_type": "code",
   "execution_count": null,
   "metadata": {},
   "outputs": [],
   "source": [
    "import importlib\n",
    "importlib.reload(regmod)\n",
    "\n",
    "max_path_length = 4\n",
    "\n",
    "fig, axes = plt.subplots(ncols=2, figsize=(15, 5))\n",
    "\n",
    "alphas = np.linspace(0, 1, 11)\n",
    "all_y_preds = np.zeros((len(alphas), adj.shape[0], adj.shape[1]))\n",
    "\n",
    "multi_hops_design = regmod.get_path_matrices(adj, max_path_depth)\n",
    "\n",
    "for a_i, alpha in enumerate(alphas):\n",
    "    # Old model\n",
    "    # a_design_path = regmod.build_design_paths(adj, alpha=alpha, max_path_length=max_path_length,\n",
    "    #                                           normalization=\"length\")\n",
    "    \n",
    "    a_powers = [alpha**(i+1) for i in range(max_path_depth)]\n",
    "    design_shortest = regmod.combine_paths_matrices(multi_hops_design, alpha=a_powers)\n",
    "\n",
    "    design_model = design_shortest\n",
    "    all_y_preds[a_i] = regmod.predict_conduction_delays(design_model, adj, invert_weights=False)\n",
    "\n",
    "selected_coords = [(0, 1), (0, 2), (0, 4), (1, 3), (1, 4)]\n",
    "for coords in selected_coords:\n",
    "    axes[0].plot(alphas, all_y_preds[:, coords[0], coords[1]], lw=4, alpha=.5,\n",
    "                 label=f\"Edge ({coords[0]}, {coords[1]})\")\n",
    "\n",
    "axes[0].set_xticks(alphas)\n",
    "axes[0].set_xlabel(\"Alpha\")\n",
    "axes[0].set_ylabel(\"Conduction Delays\")\n",
    "axes[0].legend()\n",
    "axes[0].grid()\n",
    "\n",
    "nx.draw(toy_graph, ax=axes[1], with_labels=True)"
   ]
  },
  {
   "cell_type": "code",
   "execution_count": null,
   "metadata": {},
   "outputs": [],
   "source": []
  }
 ],
 "metadata": {
  "kernelspec": {
   "display_name": "dgsp",
   "language": "python",
   "name": "python3"
  },
  "language_info": {
   "codemirror_mode": {
    "name": "ipython",
    "version": 3
   },
   "file_extension": ".py",
   "mimetype": "text/x-python",
   "name": "python",
   "nbconvert_exporter": "python",
   "pygments_lexer": "ipython3",
   "version": "3.11.7"
  }
 },
 "nbformat": 4,
 "nbformat_minor": 2
}
